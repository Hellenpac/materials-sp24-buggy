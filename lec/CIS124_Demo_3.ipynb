{
 "cells": [
  {
   "cell_type": "markdown",
   "id": "663d2740",
   "metadata": {},
   "source": [
    "# Tables"
   ]
  },
  {
   "cell_type": "code",
   "execution_count": 54,
   "id": "eb1b9de6",
   "metadata": {},
   "outputs": [],
   "source": [
    "# Importing the datascience package\n",
    "from datascience import *\n",
    "%matplotlib inline"
   ]
  },
  {
   "cell_type": "code",
   "execution_count": 5,
   "id": "371538f8",
   "metadata": {},
   "outputs": [
    {
     "data": {
      "text/html": [
       "<table border=\"1\" class=\"dataframe\">\n",
       "    <thead>\n",
       "        <tr>\n",
       "            <th>Petals</th> <th>Name</th> <th>Color</th>\n",
       "        </tr>\n",
       "    </thead>\n",
       "    <tbody>\n",
       "        <tr>\n",
       "            <td>8     </td> <td>lotus    </td> <td>pink  </td>\n",
       "        </tr>\n",
       "        <tr>\n",
       "            <td>34    </td> <td>sunflower</td> <td>yellow</td>\n",
       "        </tr>\n",
       "        <tr>\n",
       "            <td>5     </td> <td>rose     </td> <td>red   </td>\n",
       "        </tr>\n",
       "    </tbody>\n",
       "</table>"
      ],
      "text/plain": [
       "Petals | Name      | Color\n",
       "8      | lotus     | pink\n",
       "34     | sunflower | yellow\n",
       "5      | rose      | red"
      ]
     },
     "execution_count": 5,
     "metadata": {},
     "output_type": "execute_result"
    }
   ],
   "source": [
    "# Run this cell to see the content of the file flowers.csv\n",
    "Table.read_table(\"flowers.csv\")"
   ]
  },
  {
   "cell_type": "code",
   "execution_count": 8,
   "id": "a50c67f6",
   "metadata": {},
   "outputs": [],
   "source": [
    "# Giving the table a name\n",
    "flowers = Table.read_table(\"flowers.csv\")"
   ]
  },
  {
   "cell_type": "markdown",
   "id": "ec61fc1c",
   "metadata": {},
   "source": [
    "## How do you see the content of flowers? \n",
    "### Type it in the cell below and tap Run"
   ]
  },
  {
   "cell_type": "code",
   "execution_count": 14,
   "id": "bfba0c06",
   "metadata": {},
   "outputs": [
    {
     "data": {
      "text/html": [
       "<table border=\"1\" class=\"dataframe\">\n",
       "    <thead>\n",
       "        <tr>\n",
       "            <th>Petals</th> <th>Name</th> <th>Color</th>\n",
       "        </tr>\n",
       "    </thead>\n",
       "    <tbody>\n",
       "        <tr>\n",
       "            <td>8     </td> <td>lotus    </td> <td>pink  </td>\n",
       "        </tr>\n",
       "        <tr>\n",
       "            <td>34    </td> <td>sunflower</td> <td>yellow</td>\n",
       "        </tr>\n",
       "        <tr>\n",
       "            <td>5     </td> <td>rose     </td> <td>red   </td>\n",
       "        </tr>\n",
       "    </tbody>\n",
       "</table>"
      ],
      "text/plain": [
       "Petals | Name      | Color\n",
       "8      | lotus     | pink\n",
       "34     | sunflower | yellow\n",
       "5      | rose      | red"
      ]
     },
     "execution_count": 14,
     "metadata": {},
     "output_type": "execute_result"
    }
   ],
   "source": [
    "flowers"
   ]
  },
  {
   "cell_type": "markdown",
   "id": "a6fcf9d4",
   "metadata": {},
   "source": [
    "# Tables operations: selecting columns"
   ]
  },
  {
   "cell_type": "code",
   "execution_count": 11,
   "id": "12e1dd38",
   "metadata": {},
   "outputs": [
    {
     "data": {
      "text/html": [
       "<table border=\"1\" class=\"dataframe\">\n",
       "    <thead>\n",
       "        <tr>\n",
       "            <th>Name</th>\n",
       "        </tr>\n",
       "    </thead>\n",
       "    <tbody>\n",
       "        <tr>\n",
       "            <td>lotus    </td>\n",
       "        </tr>\n",
       "        <tr>\n",
       "            <td>sunflower</td>\n",
       "        </tr>\n",
       "        <tr>\n",
       "            <td>rose     </td>\n",
       "        </tr>\n",
       "    </tbody>\n",
       "</table>"
      ],
      "text/plain": [
       "Name\n",
       "lotus\n",
       "sunflower\n",
       "rose"
      ]
     },
     "execution_count": 11,
     "metadata": {},
     "output_type": "execute_result"
    }
   ],
   "source": [
    "flower_names = flowers.select(\"Name\")\n",
    "flower_names"
   ]
  },
  {
   "cell_type": "markdown",
   "id": "67dac9ef",
   "metadata": {},
   "source": [
    "## Try selecting other column names from flowers and tap Run"
   ]
  },
  {
   "cell_type": "code",
   "execution_count": 15,
   "id": "8eb9cda5",
   "metadata": {},
   "outputs": [
    {
     "data": {
      "text/html": [
       "<table border=\"1\" class=\"dataframe\">\n",
       "    <thead>\n",
       "        <tr>\n",
       "            <th>Color</th>\n",
       "        </tr>\n",
       "    </thead>\n",
       "    <tbody>\n",
       "        <tr>\n",
       "            <td>pink  </td>\n",
       "        </tr>\n",
       "        <tr>\n",
       "            <td>yellow</td>\n",
       "        </tr>\n",
       "        <tr>\n",
       "            <td>red   </td>\n",
       "        </tr>\n",
       "    </tbody>\n",
       "</table>"
      ],
      "text/plain": [
       "Color\n",
       "pink\n",
       "yellow\n",
       "red"
      ]
     },
     "execution_count": 15,
     "metadata": {},
     "output_type": "execute_result"
    }
   ],
   "source": [
    "flowers.select('Color')"
   ]
  },
  {
   "cell_type": "markdown",
   "id": "62be883d",
   "metadata": {},
   "source": [
    "## Try selecting multiple columns"
   ]
  },
  {
   "cell_type": "code",
   "execution_count": 16,
   "id": "5f4e448e",
   "metadata": {},
   "outputs": [
    {
     "data": {
      "text/html": [
       "<table border=\"1\" class=\"dataframe\">\n",
       "    <thead>\n",
       "        <tr>\n",
       "            <th>Name</th> <th>Color</th>\n",
       "        </tr>\n",
       "    </thead>\n",
       "    <tbody>\n",
       "        <tr>\n",
       "            <td>lotus    </td> <td>pink  </td>\n",
       "        </tr>\n",
       "        <tr>\n",
       "            <td>sunflower</td> <td>yellow</td>\n",
       "        </tr>\n",
       "        <tr>\n",
       "            <td>rose     </td> <td>red   </td>\n",
       "        </tr>\n",
       "    </tbody>\n",
       "</table>"
      ],
      "text/plain": [
       "Name      | Color\n",
       "lotus     | pink\n",
       "sunflower | yellow\n",
       "rose      | red"
      ]
     },
     "execution_count": 16,
     "metadata": {},
     "output_type": "execute_result"
    }
   ],
   "source": [
    "flowers.select('Name', 'Color')"
   ]
  },
  {
   "cell_type": "markdown",
   "id": "e7c82a4d",
   "metadata": {},
   "source": [
    "## Dropping a column"
   ]
  },
  {
   "cell_type": "code",
   "execution_count": 12,
   "id": "c861d1c8",
   "metadata": {},
   "outputs": [
    {
     "data": {
      "text/html": [
       "<table border=\"1\" class=\"dataframe\">\n",
       "    <thead>\n",
       "        <tr>\n",
       "            <th>Name</th> <th>Color</th>\n",
       "        </tr>\n",
       "    </thead>\n",
       "    <tbody>\n",
       "        <tr>\n",
       "            <td>lotus    </td> <td>pink  </td>\n",
       "        </tr>\n",
       "        <tr>\n",
       "            <td>sunflower</td> <td>yellow</td>\n",
       "        </tr>\n",
       "        <tr>\n",
       "            <td>rose     </td> <td>red   </td>\n",
       "        </tr>\n",
       "    </tbody>\n",
       "</table>"
      ],
      "text/plain": [
       "Name      | Color\n",
       "lotus     | pink\n",
       "sunflower | yellow\n",
       "rose      | red"
      ]
     },
     "execution_count": 12,
     "metadata": {},
     "output_type": "execute_result"
    }
   ],
   "source": [
    "flowers.drop(\"Petals\")"
   ]
  },
  {
   "cell_type": "markdown",
   "id": "0477e835",
   "metadata": {},
   "source": [
    "## Try dropping other columns"
   ]
  },
  {
   "cell_type": "code",
   "execution_count": 17,
   "id": "9d5a1be7",
   "metadata": {},
   "outputs": [
    {
     "data": {
      "text/html": [
       "<table border=\"1\" class=\"dataframe\">\n",
       "    <thead>\n",
       "        <tr>\n",
       "            <th>Petals</th> <th>Name</th>\n",
       "        </tr>\n",
       "    </thead>\n",
       "    <tbody>\n",
       "        <tr>\n",
       "            <td>8     </td> <td>lotus    </td>\n",
       "        </tr>\n",
       "        <tr>\n",
       "            <td>34    </td> <td>sunflower</td>\n",
       "        </tr>\n",
       "        <tr>\n",
       "            <td>5     </td> <td>rose     </td>\n",
       "        </tr>\n",
       "    </tbody>\n",
       "</table>"
      ],
      "text/plain": [
       "Petals | Name\n",
       "8      | lotus\n",
       "34     | sunflower\n",
       "5      | rose"
      ]
     },
     "execution_count": 17,
     "metadata": {},
     "output_type": "execute_result"
    }
   ],
   "source": [
    "flowers.drop('Color')"
   ]
  },
  {
   "cell_type": "markdown",
   "id": "17c5a8fb",
   "metadata": {},
   "source": [
    "## Try giving the newly generated table a name, for example, table_without_color"
   ]
  },
  {
   "cell_type": "code",
   "execution_count": 18,
   "id": "2e6e1fe4",
   "metadata": {},
   "outputs": [],
   "source": [
    "table_without_color = flowers.drop('Color')"
   ]
  },
  {
   "cell_type": "markdown",
   "id": "12c06c9d",
   "metadata": {},
   "source": [
    "## To see the result of the new table, just type table_without_color and tap Run."
   ]
  },
  {
   "cell_type": "code",
   "execution_count": 19,
   "id": "9e1d5594",
   "metadata": {},
   "outputs": [
    {
     "data": {
      "text/html": [
       "<table border=\"1\" class=\"dataframe\">\n",
       "    <thead>\n",
       "        <tr>\n",
       "            <th>Petals</th> <th>Name</th>\n",
       "        </tr>\n",
       "    </thead>\n",
       "    <tbody>\n",
       "        <tr>\n",
       "            <td>8     </td> <td>lotus    </td>\n",
       "        </tr>\n",
       "        <tr>\n",
       "            <td>34    </td> <td>sunflower</td>\n",
       "        </tr>\n",
       "        <tr>\n",
       "            <td>5     </td> <td>rose     </td>\n",
       "        </tr>\n",
       "    </tbody>\n",
       "</table>"
      ],
      "text/plain": [
       "Petals | Name\n",
       "8      | lotus\n",
       "34     | sunflower\n",
       "5      | rose"
      ]
     },
     "execution_count": 19,
     "metadata": {},
     "output_type": "execute_result"
    }
   ],
   "source": [
    "table_without_color"
   ]
  },
  {
   "cell_type": "code",
   "execution_count": 21,
   "id": "e58b4985",
   "metadata": {},
   "outputs": [],
   "source": [
    "# Run this cell to see the content of the file flowers.csv\n",
    "movies = Table.read_table(\"top_movies_2017.csv\")"
   ]
  },
  {
   "cell_type": "markdown",
   "id": "ef082a33",
   "metadata": {},
   "source": [
    "## Write code to show the first three rows of table movies"
   ]
  },
  {
   "cell_type": "code",
   "execution_count": 22,
   "id": "884db9e3",
   "metadata": {},
   "outputs": [
    {
     "data": {
      "text/html": [
       "<table border=\"1\" class=\"dataframe\">\n",
       "    <thead>\n",
       "        <tr>\n",
       "            <th>Title</th> <th>Studio</th> <th>Gross</th> <th>Gross (Adjusted)</th> <th>Year</th>\n",
       "        </tr>\n",
       "    </thead>\n",
       "    <tbody>\n",
       "        <tr>\n",
       "            <td>Gone with the Wind</td> <td>MGM   </td> <td>198676459</td> <td>1796176700      </td> <td>1939</td>\n",
       "        </tr>\n",
       "        <tr>\n",
       "            <td>Star Wars         </td> <td>Fox   </td> <td>460998007</td> <td>1583483200      </td> <td>1977</td>\n",
       "        </tr>\n",
       "        <tr>\n",
       "            <td>The Sound of Music</td> <td>Fox   </td> <td>158671368</td> <td>1266072700      </td> <td>1965</td>\n",
       "        </tr>\n",
       "    </tbody>\n",
       "</table>\n",
       "<p>... (197 rows omitted)</p>"
      ],
      "text/plain": [
       "<IPython.core.display.HTML object>"
      ]
     },
     "metadata": {},
     "output_type": "display_data"
    }
   ],
   "source": [
    "movies.show(3)"
   ]
  },
  {
   "cell_type": "markdown",
   "id": "2ef55042",
   "metadata": {},
   "source": [
    "## Write code to sort by gross"
   ]
  },
  {
   "cell_type": "code",
   "execution_count": 25,
   "id": "f0124331",
   "metadata": {},
   "outputs": [
    {
     "data": {
      "text/html": [
       "<table border=\"1\" class=\"dataframe\">\n",
       "    <thead>\n",
       "        <tr>\n",
       "            <th>Title</th> <th>Studio</th> <th>Gross</th> <th>Gross (Adjusted)</th> <th>Year</th>\n",
       "        </tr>\n",
       "    </thead>\n",
       "    <tbody>\n",
       "        <tr>\n",
       "            <td>The Four Horsemen of the Apocalypse</td> <td>Metro          </td> <td>9183673 </td> <td>408214300       </td> <td>1921</td>\n",
       "        </tr>\n",
       "        <tr>\n",
       "            <td>Sergeant York                      </td> <td>Warner Brothers</td> <td>16361885</td> <td>427815200       </td> <td>1941</td>\n",
       "        </tr>\n",
       "        <tr>\n",
       "            <td>Duel in the Sun                    </td> <td>Selz.          </td> <td>20408163</td> <td>453571400       </td> <td>1946</td>\n",
       "        </tr>\n",
       "        <tr>\n",
       "            <td>The Bells of St. Mary's            </td> <td>RKO            </td> <td>21333333</td> <td>557803900       </td> <td>1945</td>\n",
       "        </tr>\n",
       "        <tr>\n",
       "            <td>The Caine Mutiny                   </td> <td>Columbia       </td> <td>21750000</td> <td>394607100       </td> <td>1954</td>\n",
       "        </tr>\n",
       "        <tr>\n",
       "            <td>The Best Years of Our Lives        </td> <td>RKO            </td> <td>23650000</td> <td>488950000       </td> <td>1946</td>\n",
       "        </tr>\n",
       "        <tr>\n",
       "            <td>House of Wax                       </td> <td>Warner Brothers</td> <td>23750000</td> <td>449228700       </td> <td>1953</td>\n",
       "        </tr>\n",
       "        <tr>\n",
       "            <td>The Bridge on the River Kwai       </td> <td>Columbia       </td> <td>27200000</td> <td>483616000       </td> <td>1957</td>\n",
       "        </tr>\n",
       "        <tr>\n",
       "            <td>Psycho                             </td> <td>Universal      </td> <td>32000000</td> <td>379306800       </td> <td>1960</td>\n",
       "        </tr>\n",
       "        <tr>\n",
       "            <td>The Robe                           </td> <td>Fox            </td> <td>36000000</td> <td>581890900       </td> <td>1953</td>\n",
       "        </tr>\n",
       "    </tbody>\n",
       "</table>\n",
       "<p>... (190 rows omitted)</p>"
      ],
      "text/plain": [
       "Title                               | Studio          | Gross    | Gross (Adjusted) | Year\n",
       "The Four Horsemen of the Apocalypse | Metro           | 9183673  | 408214300        | 1921\n",
       "Sergeant York                       | Warner Brothers | 16361885 | 427815200        | 1941\n",
       "Duel in the Sun                     | Selz.           | 20408163 | 453571400        | 1946\n",
       "The Bells of St. Mary's             | RKO             | 21333333 | 557803900        | 1945\n",
       "The Caine Mutiny                    | Columbia        | 21750000 | 394607100        | 1954\n",
       "The Best Years of Our Lives         | RKO             | 23650000 | 488950000        | 1946\n",
       "House of Wax                        | Warner Brothers | 23750000 | 449228700        | 1953\n",
       "The Bridge on the River Kwai        | Columbia        | 27200000 | 483616000        | 1957\n",
       "Psycho                              | Universal       | 32000000 | 379306800        | 1960\n",
       "The Robe                            | Fox             | 36000000 | 581890900        | 1953\n",
       "... (190 rows omitted)"
      ]
     },
     "execution_count": 25,
     "metadata": {},
     "output_type": "execute_result"
    }
   ],
   "source": [
    "gross = movies.sort('Gross')\n",
    "gross"
   ]
  },
  {
   "cell_type": "markdown",
   "id": "361a55c5",
   "metadata": {},
   "source": [
    "## Write code to sort by gross in decending order"
   ]
  },
  {
   "cell_type": "code",
   "execution_count": 26,
   "id": "993758e0",
   "metadata": {},
   "outputs": [
    {
     "data": {
      "text/html": [
       "<table border=\"1\" class=\"dataframe\">\n",
       "    <thead>\n",
       "        <tr>\n",
       "            <th>Title</th> <th>Studio</th> <th>Gross</th> <th>Gross (Adjusted)</th> <th>Year</th>\n",
       "        </tr>\n",
       "    </thead>\n",
       "    <tbody>\n",
       "        <tr>\n",
       "            <td>Star Wars: The Force Awakens             </td> <td>Buena Vista    </td> <td>936662225</td> <td>961143200       </td> <td>2015</td>\n",
       "        </tr>\n",
       "        <tr>\n",
       "            <td>Avatar                                   </td> <td>Fox            </td> <td>760507625</td> <td>865082100       </td> <td>2009</td>\n",
       "        </tr>\n",
       "        <tr>\n",
       "            <td>Titanic                                  </td> <td>Paramount      </td> <td>658672302</td> <td>1204368000      </td> <td>1997</td>\n",
       "        </tr>\n",
       "        <tr>\n",
       "            <td>Jurassic World                           </td> <td>Universal      </td> <td>652270625</td> <td>702747400       </td> <td>2015</td>\n",
       "        </tr>\n",
       "        <tr>\n",
       "            <td>Marvel's The Avengers                    </td> <td>Buena Vista    </td> <td>623357910</td> <td>683474000       </td> <td>2012</td>\n",
       "        </tr>\n",
       "        <tr>\n",
       "            <td>The Dark Knight                          </td> <td>Warner Brothers</td> <td>534858444</td> <td>661980500       </td> <td>2008</td>\n",
       "        </tr>\n",
       "        <tr>\n",
       "            <td>Rogue One: A Star Wars Story             </td> <td>Buena Vista    </td> <td>532177324</td> <td>537326000       </td> <td>2016</td>\n",
       "        </tr>\n",
       "        <tr>\n",
       "            <td>Beauty and the Beast (2017)              </td> <td>Buena Vista    </td> <td>504014165</td> <td>504014165       </td> <td>2017</td>\n",
       "        </tr>\n",
       "        <tr>\n",
       "            <td>Finding Dory                             </td> <td>Buena Vista    </td> <td>486295561</td> <td>499245400       </td> <td>2016</td>\n",
       "        </tr>\n",
       "        <tr>\n",
       "            <td>Star Wars: Episode I - The Phantom Menace</td> <td>Fox            </td> <td>474544677</td> <td>802874300       </td> <td>1999</td>\n",
       "        </tr>\n",
       "    </tbody>\n",
       "</table>\n",
       "<p>... (190 rows omitted)</p>"
      ],
      "text/plain": [
       "Title                                     | Studio          | Gross     | Gross (Adjusted) | Year\n",
       "Star Wars: The Force Awakens              | Buena Vista     | 936662225 | 961143200        | 2015\n",
       "Avatar                                    | Fox             | 760507625 | 865082100        | 2009\n",
       "Titanic                                   | Paramount       | 658672302 | 1204368000       | 1997\n",
       "Jurassic World                            | Universal       | 652270625 | 702747400        | 2015\n",
       "Marvel's The Avengers                     | Buena Vista     | 623357910 | 683474000        | 2012\n",
       "The Dark Knight                           | Warner Brothers | 534858444 | 661980500        | 2008\n",
       "Rogue One: A Star Wars Story              | Buena Vista     | 532177324 | 537326000        | 2016\n",
       "Beauty and the Beast (2017)               | Buena Vista     | 504014165 | 504014165        | 2017\n",
       "Finding Dory                              | Buena Vista     | 486295561 | 499245400        | 2016\n",
       "Star Wars: Episode I - The Phantom Menace | Fox             | 474544677 | 802874300        | 1999\n",
       "... (190 rows omitted)"
      ]
     },
     "execution_count": 26,
     "metadata": {},
     "output_type": "execute_result"
    }
   ],
   "source": [
    "sorted_by_gross = gross.sort('Gross', descending='True')\n",
    "sorted_by_gross"
   ]
  },
  {
   "cell_type": "markdown",
   "id": "f4b8d24c",
   "metadata": {},
   "source": [
    "## Sort by studio eliminating repetitions so only the top growth for a particular studio shows"
   ]
  },
  {
   "cell_type": "code",
   "execution_count": 35,
   "id": "4a76d09e",
   "metadata": {},
   "outputs": [
    {
     "data": {
      "text/html": [
       "<table border=\"1\" class=\"dataframe\">\n",
       "    <thead>\n",
       "        <tr>\n",
       "            <th>Title</th> <th>Studio</th> <th>Gross</th> <th>Gross (Adjusted)</th> <th>Year</th>\n",
       "        </tr>\n",
       "    </thead>\n",
       "    <tbody>\n",
       "        <tr>\n",
       "            <td>The Graduate                         </td> <td>AVCO       </td> <td>104945305</td> <td>760778000       </td> <td>1967</td>\n",
       "        </tr>\n",
       "        <tr>\n",
       "            <td>Who Framed Roger Rabbit              </td> <td>Buena Vista</td> <td>156452370</td> <td>338409100       </td> <td>1988</td>\n",
       "        </tr>\n",
       "        <tr>\n",
       "            <td>The Caine Mutiny                     </td> <td>Columbia   </td> <td>21750000 </td> <td>394607100       </td> <td>1954</td>\n",
       "        </tr>\n",
       "        <tr>\n",
       "            <td>Swiss Family Robinson                </td> <td>Disney     </td> <td>40356000 </td> <td>478353100       </td> <td>1960</td>\n",
       "        </tr>\n",
       "        <tr>\n",
       "            <td>Saving Private Ryan                  </td> <td>Dreamworks </td> <td>216540909</td> <td>406691500       </td> <td>1998</td>\n",
       "        </tr>\n",
       "        <tr>\n",
       "            <td>The Robe                             </td> <td>Fox        </td> <td>36000000 </td> <td>581890900       </td> <td>1953</td>\n",
       "        </tr>\n",
       "        <tr>\n",
       "            <td>My Big Fat Greek Wedding             </td> <td>IFC        </td> <td>241438208</td> <td>368219200       </td> <td>2002</td>\n",
       "        </tr>\n",
       "        <tr>\n",
       "            <td>The Hunger Games: Mockingjay - Part 1</td> <td>Lionsgate  </td> <td>337135885</td> <td>362062100       </td> <td>2014</td>\n",
       "        </tr>\n",
       "        <tr>\n",
       "            <td>West Side Story                      </td> <td>MGM        </td> <td>43656822 </td> <td>497575800       </td> <td>1961</td>\n",
       "        </tr>\n",
       "        <tr>\n",
       "            <td>The Four Horsemen of the Apocalypse  </td> <td>Metro      </td> <td>9183673  </td> <td>408214300       </td> <td>1921</td>\n",
       "        </tr>\n",
       "    </tbody>\n",
       "</table>\n",
       "<p>... (13 rows omitted)</p>"
      ],
      "text/plain": [
       "Title                                 | Studio      | Gross     | Gross (Adjusted) | Year\n",
       "The Graduate                          | AVCO        | 104945305 | 760778000        | 1967\n",
       "Who Framed Roger Rabbit               | Buena Vista | 156452370 | 338409100        | 1988\n",
       "The Caine Mutiny                      | Columbia    | 21750000  | 394607100        | 1954\n",
       "Swiss Family Robinson                 | Disney      | 40356000  | 478353100        | 1960\n",
       "Saving Private Ryan                   | Dreamworks  | 216540909 | 406691500        | 1998\n",
       "The Robe                              | Fox         | 36000000  | 581890900        | 1953\n",
       "My Big Fat Greek Wedding              | IFC         | 241438208 | 368219200        | 2002\n",
       "The Hunger Games: Mockingjay - Part 1 | Lionsgate   | 337135885 | 362062100        | 2014\n",
       "West Side Story                       | MGM         | 43656822  | 497575800        | 1961\n",
       "The Four Horsemen of the Apocalypse   | Metro       | 9183673   | 408214300        | 1921\n",
       "... (13 rows omitted)"
      ]
     },
     "execution_count": 35,
     "metadata": {},
     "output_type": "execute_result"
    }
   ],
   "source": [
    "top_per_studio = sorted_by_gross.sort('Studio', distinct='True')\n",
    "top_per_studio"
   ]
  },
  {
   "cell_type": "code",
   "execution_count": 38,
   "id": "0cd7fd90",
   "metadata": {},
   "outputs": [
    {
     "data": {
      "text/html": [
       "<table border=\"1\" class=\"dataframe\">\n",
       "    <thead>\n",
       "        <tr>\n",
       "            <th>Title</th> <th>Studio</th> <th>Gross</th> <th>Gross (Adjusted)</th> <th>Year</th>\n",
       "        </tr>\n",
       "    </thead>\n",
       "    <tbody>\n",
       "        <tr>\n",
       "            <td>The Graduate                         </td> <td>AVCO       </td> <td>104945305</td> <td>760778000       </td> <td>1967</td>\n",
       "        </tr>\n",
       "        <tr>\n",
       "            <td>Who Framed Roger Rabbit              </td> <td>Buena Vista</td> <td>156452370</td> <td>338409100       </td> <td>1988</td>\n",
       "        </tr>\n",
       "        <tr>\n",
       "            <td>The Caine Mutiny                     </td> <td>Columbia   </td> <td>21750000 </td> <td>394607100       </td> <td>1954</td>\n",
       "        </tr>\n",
       "        <tr>\n",
       "            <td>Swiss Family Robinson                </td> <td>Disney     </td> <td>40356000 </td> <td>478353100       </td> <td>1960</td>\n",
       "        </tr>\n",
       "        <tr>\n",
       "            <td>Saving Private Ryan                  </td> <td>Dreamworks </td> <td>216540909</td> <td>406691500       </td> <td>1998</td>\n",
       "        </tr>\n",
       "        <tr>\n",
       "            <td>The Robe                             </td> <td>Fox        </td> <td>36000000 </td> <td>581890900       </td> <td>1953</td>\n",
       "        </tr>\n",
       "        <tr>\n",
       "            <td>My Big Fat Greek Wedding             </td> <td>IFC        </td> <td>241438208</td> <td>368219200       </td> <td>2002</td>\n",
       "        </tr>\n",
       "        <tr>\n",
       "            <td>The Hunger Games: Mockingjay - Part 1</td> <td>Lionsgate  </td> <td>337135885</td> <td>362062100       </td> <td>2014</td>\n",
       "        </tr>\n",
       "        <tr>\n",
       "            <td>West Side Story                      </td> <td>MGM        </td> <td>43656822 </td> <td>497575800       </td> <td>1961</td>\n",
       "        </tr>\n",
       "        <tr>\n",
       "            <td>The Four Horsemen of the Apocalypse  </td> <td>Metro      </td> <td>9183673  </td> <td>408214300       </td> <td>1921</td>\n",
       "        </tr>\n",
       "    </tbody>\n",
       "</table>\n",
       "<p>... (13 rows omitted)</p>"
      ],
      "text/plain": [
       "Title                                 | Studio      | Gross     | Gross (Adjusted) | Year\n",
       "The Graduate                          | AVCO        | 104945305 | 760778000        | 1967\n",
       "Who Framed Roger Rabbit               | Buena Vista | 156452370 | 338409100        | 1988\n",
       "The Caine Mutiny                      | Columbia    | 21750000  | 394607100        | 1954\n",
       "Swiss Family Robinson                 | Disney      | 40356000  | 478353100        | 1960\n",
       "Saving Private Ryan                   | Dreamworks  | 216540909 | 406691500        | 1998\n",
       "The Robe                              | Fox         | 36000000  | 581890900        | 1953\n",
       "My Big Fat Greek Wedding              | IFC         | 241438208 | 368219200        | 2002\n",
       "The Hunger Games: Mockingjay - Part 1 | Lionsgate   | 337135885 | 362062100        | 2014\n",
       "West Side Story                       | MGM         | 43656822  | 497575800        | 1961\n",
       "The Four Horsemen of the Apocalypse   | Metro       | 9183673   | 408214300        | 1921\n",
       "... (13 rows omitted)"
      ]
     },
     "execution_count": 38,
     "metadata": {},
     "output_type": "execute_result"
    }
   ],
   "source": [
    "top_per_studio"
   ]
  },
  {
   "cell_type": "code",
   "execution_count": 56,
   "id": "e7e0feb2",
   "metadata": {},
   "outputs": [
    {
     "data": {
      "image/png": "[encoded data removed]",
      "text/plain": [
       "<Figure size 432x828 with 1 Axes>"
      ]
     },
     "metadata": {
      "needs_background": "light"
     },
     "output_type": "display_data"
    }
   ],
   "source": [
    "top_per_studio.barh('Studio', 'Gross')"
   ]
  },
  {
   "cell_type": "markdown",
   "id": "62f5c805",
   "metadata": {},
   "source": [
    "## Sort per gross before generating the bar graph"
   ]
  },
  {
   "cell_type": "code",
   "execution_count": 57,
   "id": "1b5e4104",
   "metadata": {},
   "outputs": [
    {
     "data": {
      "image/png": "[encoded data removed]",
      "text/plain": [
       "<Figure size 432x828 with 1 Axes>"
      ]
     },
     "metadata": {
      "needs_background": "light"
     },
     "output_type": "display_data"
    }
   ],
   "source": [
    "top_studios = top_per_studio.sort('Gross')\n",
    "top_studios.barh('Studio', 'Gross')"
   ]
  },
  {
   "cell_type": "code",
   "execution_count": null,
   "id": "094c4823",
   "metadata": {},
   "outputs": [],
   "source": []
  }
 ],
 "metadata": {
  "kernelspec": {
   "display_name": "Python 3 (ipykernel)",
   "language": "python",
   "name": "python3"
  },
  "language_info": {
   "codemirror_mode": {
    "name": "ipython",
    "version": 3
   },
   "file_extension": ".py",
   "mimetype": "text/x-python",
   "name": "python",
   "nbconvert_exporter": "python",
   "pygments_lexer": "ipython3",
   "version": "3.9.12"
  }
 },
 "nbformat": 4,
 "nbformat_minor": 5
}
