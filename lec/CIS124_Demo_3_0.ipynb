{
 "cells": [
  {
   "cell_type": "markdown",
   "id": "663d2740",
   "metadata": {},
   "source": [
    "# Tables"
   ]
  },
  {
   "cell_type": "code",
   "execution_count": null,
   "id": "eb1b9de6",
   "metadata": {},
   "outputs": [],
   "source": [
    "# Importing the datascience package\n",
    "from datascience import *\n",
    "%matplotlib inline"
   ]
  },
  {
   "cell_type": "code",
   "execution_count": null,
   "id": "371538f8",
   "metadata": {},
   "outputs": [],
   "source": [
    "# Run this cell to see the content of the file flowers.csv\n",
    "Table.read_table(\"flowers.csv\")"
   ]
  },
  {
   "cell_type": "code",
   "execution_count": null,
   "id": "a50c67f6",
   "metadata": {},
   "outputs": [],
   "source": [
    "# Giving the table a name\n",
    "flowers = Table.read_table(\"flowers.csv\")"
   ]
  },
  {
   "cell_type": "markdown",
   "id": "ec61fc1c",
   "metadata": {},
   "source": [
    "## How do you see the content of flowers? \n",
    "### Type it in the cell below and tap Run"
   ]
  },
  {
   "cell_type": "code",
   "execution_count": null,
   "id": "bfba0c06",
   "metadata": {},
   "outputs": [],
   "source": []
  },
  {
   "cell_type": "markdown",
   "id": "a6fcf9d4",
   "metadata": {},
   "source": [
    "# Tables operations: selecting columns"
   ]
  },
  {
   "cell_type": "code",
   "execution_count": null,
   "id": "12e1dd38",
   "metadata": {},
   "outputs": [],
   "source": [
    "flower_names = flowers.select(\"Name\")\n",
    "flower_names"
   ]
  },
  {
   "cell_type": "markdown",
   "id": "67dac9ef",
   "metadata": {},
   "source": [
    "## Try selecting other column names from flowers and tap Run"
   ]
  },
  {
   "cell_type": "code",
   "execution_count": null,
   "id": "8eb9cda5",
   "metadata": {},
   "outputs": [],
   "source": []
  },
  {
   "cell_type": "markdown",
   "id": "62be883d",
   "metadata": {},
   "source": [
    "## Try selecting multiple columns"
   ]
  },
  {
   "cell_type": "code",
   "execution_count": null,
   "id": "5f4e448e",
   "metadata": {},
   "outputs": [],
   "source": []
  },
  {
   "cell_type": "markdown",
   "id": "e7c82a4d",
   "metadata": {},
   "source": [
    "## Dropping a column"
   ]
  },
  {
   "cell_type": "code",
   "execution_count": null,
   "id": "c861d1c8",
   "metadata": {},
   "outputs": [],
   "source": [
    "flowers.drop(\"Petals\")"
   ]
  },
  {
   "cell_type": "markdown",
   "id": "0477e835",
   "metadata": {},
   "source": [
    "## Try dropping other columns"
   ]
  },
  {
   "cell_type": "code",
   "execution_count": null,
   "id": "9d5a1be7",
   "metadata": {},
   "outputs": [],
   "source": []
  },
  {
   "cell_type": "markdown",
   "id": "17c5a8fb",
   "metadata": {},
   "source": [
    "## Try giving the newly generated table a name, for example, table_without_color"
   ]
  },
  {
   "cell_type": "code",
   "execution_count": null,
   "id": "2e6e1fe4",
   "metadata": {},
   "outputs": [],
   "source": []
  },
  {
   "cell_type": "markdown",
   "id": "12c06c9d",
   "metadata": {},
   "source": [
    "## To see the result of the new table, just type table_without_color and tap Run."
   ]
  },
  {
   "cell_type": "code",
   "execution_count": null,
   "id": "9e1d5594",
   "metadata": {},
   "outputs": [],
   "source": []
  },
  {
   "cell_type": "code",
   "execution_count": null,
   "id": "e58b4985",
   "metadata": {},
   "outputs": [],
   "source": [
    "# Run this cell to see the content of the file flowers.csv\n",
    "movies = Table.read_table(\"top_movies_2017.csv\")"
   ]
  },
  {
   "cell_type": "markdown",
   "id": "ef082a33",
   "metadata": {},
   "source": [
    "## Write code to show the first three rows of table movies"
   ]
  },
  {
   "cell_type": "code",
   "execution_count": null,
   "id": "884db9e3",
   "metadata": {},
   "outputs": [],
   "source": []
  },
  {
   "cell_type": "markdown",
   "id": "2ef55042",
   "metadata": {},
   "source": [
    "## Write code to sort by gross"
   ]
  },
  {
   "cell_type": "code",
   "execution_count": null,
   "id": "f0124331",
   "metadata": {},
   "outputs": [],
   "source": []
  },
  {
   "cell_type": "markdown",
   "id": "361a55c5",
   "metadata": {},
   "source": [
    "## Write code to sort by gross in decending order"
   ]
  },
  {
   "cell_type": "code",
   "execution_count": null,
   "id": "993758e0",
   "metadata": {},
   "outputs": [],
   "source": []
  },
  {
   "cell_type": "markdown",
   "id": "f4b8d24c",
   "metadata": {},
   "source": [
    "## Sort by studio eliminating repetitions so only the top growth for a particular studio shows"
   ]
  },
  {
   "cell_type": "code",
   "execution_count": null,
   "id": "4a76d09e",
   "metadata": {},
   "outputs": [],
   "source": []
  },
  {
   "cell_type": "code",
   "execution_count": null,
   "id": "e7e0feb2",
   "metadata": {},
   "outputs": [],
   "source": []
  },
  {
   "cell_type": "markdown",
   "id": "62f5c805",
   "metadata": {},
   "source": [
    "## Sort per gross before generating the bar graph"
   ]
  },
  {
   "cell_type": "code",
   "execution_count": null,
   "id": "1b5e4104",
   "metadata": {},
   "outputs": [],
   "source": []
  },
  {
   "cell_type": "code",
   "execution_count": null,
   "id": "094c4823",
   "metadata": {},
   "outputs": [],
   "source": []
  }
 ],
 "metadata": {
  "kernelspec": {
   "display_name": "Python 3 (ipykernel)",
   "language": "python",
   "name": "python3"
  },
  "language_info": {
   "codemirror_mode": {
    "name": "ipython",
    "version": 3
   },
   "file_extension": ".py",
   "mimetype": "text/x-python",
   "name": "python",
   "nbconvert_exporter": "python",
   "pygments_lexer": "ipython3",
   "version": "3.9.12"
  }
 },
 "nbformat": 4,
 "nbformat_minor": 5
}
